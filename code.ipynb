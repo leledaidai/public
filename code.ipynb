{
 "cells": [
  {
   "cell_type": "code",
   "execution_count": 1,
   "id": "133eb765",
   "metadata": {},
   "outputs": [],
   "source": [
    "import cv2#opencv读取的格式是BGR\n",
    "import matplotlib.pyplot as plt\n",
    "import numpy as np\n",
    "%matplotlib inline"
   ]
  },
  {
   "cell_type": "code",
   "execution_count": 2,
   "id": "615dd788",
   "metadata": {},
   "outputs": [
    {
     "data": {
      "text/plain": [
       "-1"
      ]
     },
     "execution_count": 2,
     "metadata": {},
     "output_type": "execute_result"
    }
   ],
   "source": [
    "import cv2\n",
    "\n",
    "img = cv2.imread('/Users/user/Desktop/ball.png')\n",
    "\n",
    "hsv_img = cv2.cvtColor(img, cv2.COLOR_BGR2HSV)\n",
    "\n",
    "# 定义颜色范围\n",
    "lower_color = (0,43,46)\n",
    "upper_color = (10, 255, 255)\n",
    "# 颜色范围之内的为白色  颜色范围之外的为黑色\n",
    "mask_img = cv2.inRange(hsv_img, lower_color, upper_color)\n",
    "kernel = np.ones((7,7),np.uint8) \n",
    "opening = cv2.morphologyEx(mask_img, cv2.MORPH_OPEN, kernel)\n",
    "\n",
    "#cv2.imshow('img', img)\n",
    "#cv2.imshow('mask_img', mask_img)\n",
    "cv2.imshow('opening',opening)\n",
    "cv2.waitKey()\n"
   ]
  },
  {
   "cell_type": "code",
   "execution_count": 3,
   "id": "93deedf0",
   "metadata": {},
   "outputs": [],
   "source": [
    "def cv_show(name,img):\n",
    "        cv2.imshow(name,img)\n",
    "        cv2.waitKey(0)\n",
    "        cv2.destroyAllWindows()"
   ]
  },
  {
   "cell_type": "code",
   "execution_count": 4,
   "id": "d7a3143b",
   "metadata": {},
   "outputs": [],
   "source": [
    "ret, thresh = cv2.threshold(opening, 127, 255, cv2.THRESH_BINARY)\n",
    "binary,contours,hierarchy= cv2.findContours(thresh, cv2.RETR_TREE, cv2.CHAIN_APPROX_NONE)\n",
    "cnt = contours[0]\n",
    "x,y,w,h = cv2.boundingRect(cnt)\n",
    "img = cv2.rectangle(img,(x,y),(x+w,y+h),(0,0,255),2)\n",
    "cv2.putText(img,\"positon:\"+str(x)+\"   \"+str(y),(150,400),cv2.FONT_HERSHEY_SIMPLEX, 0.75, (0, 0, 255), 2)\n",
    "cv_show('img',img)"
   ]
  },
  {
   "cell_type": "code",
   "execution_count": null,
   "id": "ee3f86fa",
   "metadata": {},
   "outputs": [],
   "source": []
  }
 ],
 "metadata": {
  "kernelspec": {
   "display_name": "Python 3 (ipykernel)",
   "language": "python",
   "name": "python3"
  },
  "language_info": {
   "codemirror_mode": {
    "name": "ipython",
    "version": 3
   },
   "file_extension": ".py",
   "mimetype": "text/x-python",
   "name": "python",
   "nbconvert_exporter": "python",
   "pygments_lexer": "ipython3",
   "version": "3.9.12"
  }
 },
 "nbformat": 4,
 "nbformat_minor": 5
}
